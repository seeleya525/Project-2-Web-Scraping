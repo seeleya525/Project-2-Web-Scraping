{
 "cells": [
  {
   "cell_type": "markdown",
   "id": "aaf26857-c520-44df-9dac-a6884c747fb9",
   "metadata": {},
   "source": [
    "#### Andrew Seeley\n",
    "#### Prof. Binowski\n",
    "#### 11/20/2024\n",
    "#### Data Science Programming\n",
    "\n",
    "This study scrapes data from Video Game Insights (VGI), a site that accumulates data from the gaming platform Steam. Once scraped, the data is cleaned and formatted into dataframes which are then used to draw conclusions about video game sales."
   ]
  },
  {
   "cell_type": "code",
   "execution_count": 831,
   "id": "3aa32328-d67d-4610-b97d-95c9f6580d55",
   "metadata": {},
   "outputs": [],
   "source": [
    "import requests\n",
    "from bs4 import BeautifulSoup as bs\n",
    "import pandas as pd\n",
    "import time\n",
    "import nest_asyncio\n",
    "import asyncio\n",
    "from playwright.async_api import async_playwright\n",
    "from matplotlib import pyplot as plt\n",
    "import seaborn as sns\n",
    "import re\n",
    "import matplotlib.pyplot as plot"
   ]
  },
  {
   "cell_type": "markdown",
   "id": "9d2b7012-b43b-4e7a-adc1-c37dc060ca7d",
   "metadata": {},
   "source": [
    "### Question 1: Have VGI's Steam sales estimations gotten more accurate each year?"
   ]
  },
  {
   "cell_type": "code",
   "execution_count": null,
   "id": "8854abdb-65cd-4ddf-9342-fdf14a52cf90",
   "metadata": {},
   "outputs": [],
   "source": [
    "url='https://vginsights.com/insights/article/steam-sales-estimation-methodology-and-accuracy'\n",
    "response = requests.get(url)\n",
    "status = response.status_code\n",
    "if status == 200:\n",
    "    page = response.text\n",
    "    soup = bs(page)\n",
    "else:\n",
    "    print(f\"Oops! Received status code {status}\")"
   ]
  },
  {
   "cell_type": "code",
   "execution_count": null,
   "id": "260c3192-c5e7-43e4-9320-08854bdadae5",
   "metadata": {},
   "outputs": [],
   "source": [
    "print(soup.prettify())\n",
    "type(soup)"
   ]
  },
  {
   "cell_type": "code",
   "execution_count": null,
   "id": "aa181124-09bb-4ebd-988f-4524ae892f6f",
   "metadata": {},
   "outputs": [],
   "source": [
    "sales_list = [ ]\n",
    "sales_table = soup.find(class_='wp-block-table').tbody\n",
    "\n",
    "for row in sales_table.find_all('tr')[1:]:\n",
    "    \n",
    "    game = row.contents[0].text\n",
    "    date = row.contents[1].text\n",
    "    report = row.contents[2].text\n",
    "    est = row.contents[3].text\n",
    "    percent = row.contents[4].text\n",
    "    \n",
    "    sales_list.append({'game':game,'date':date, 'rep_units (mil)':report, 'est_units (mil)':est, 'perc_diff':percent})\n",
    "    \n",
    "print(sales_list)\n",
    "\n",
    "sales_df = pd.DataFrame(sales_list)"
   ]
  },
  {
   "cell_type": "markdown",
   "id": "ba22c6c7-92b9-4ef0-aeb3-3cbd1d541af8",
   "metadata": {},
   "source": [
    "Let's take a look at the data to see how it turned out."
   ]
  },
  {
   "cell_type": "code",
   "execution_count": null,
   "id": "af87e394-47f2-4303-b706-ccc28c97c63e",
   "metadata": {},
   "outputs": [],
   "source": [
    "sales_df.head()"
   ]
  },
  {
   "cell_type": "code",
   "execution_count": null,
   "id": "34532982-83d1-4501-81e1-76c622e5e724",
   "metadata": {},
   "outputs": [],
   "source": [
    "sales_df.info()"
   ]
  },
  {
   "cell_type": "markdown",
   "id": "de5a527f-a921-438f-a2eb-45f7201c42e8",
   "metadata": {},
   "source": [
    "A few things need to be cleaned up. The dates need to be converted to a datetime object, so we can extract the year. We also need to fix the percent error column to be a positive number, since we're only concerned with the magnitude of the error, not the direction."
   ]
  },
  {
   "cell_type": "code",
   "execution_count": null,
   "id": "546c6049-f822-43a0-bbb4-cfb5e9168881",
   "metadata": {},
   "outputs": [],
   "source": [
    "sales_df['date'] = pd.to_datetime(sales_df['date'])"
   ]
  },
  {
   "cell_type": "code",
   "execution_count": null,
   "id": "a7e15af7-b058-4372-940d-36a10c8ed034",
   "metadata": {},
   "outputs": [],
   "source": [
    "sales_df['year'] = sales_df['date'].dt.year"
   ]
  },
  {
   "cell_type": "code",
   "execution_count": null,
   "id": "6b02c0b8-85cf-420d-8dfe-3e0e5ff357fe",
   "metadata": {},
   "outputs": [],
   "source": [
    "sales_df['perc_diff'] = sales_df['perc_diff'].str.rstrip('%').astype(float)"
   ]
  },
  {
   "cell_type": "code",
   "execution_count": null,
   "id": "b20e1af4-09f8-49f0-86b6-103027b48e6b",
   "metadata": {},
   "outputs": [],
   "source": [
    "sales_df['perc_diff'] = sales_df['perc_diff'].abs()"
   ]
  },
  {
   "cell_type": "code",
   "execution_count": null,
   "id": "b840b49d-0c6d-4fc3-937e-f0bfca353992",
   "metadata": {},
   "outputs": [],
   "source": [
    "sales_df.info()"
   ]
  },
  {
   "cell_type": "code",
   "execution_count": null,
   "id": "f0a64892-de38-4121-a35d-333ac27e92a7",
   "metadata": {},
   "outputs": [],
   "source": [
    "sales_df.head()"
   ]
  },
  {
   "cell_type": "markdown",
   "id": "096c1a63-95d5-4352-bfb7-c08ed32c6f5a",
   "metadata": {},
   "source": [
    "Now our data is in the right format to start manipulating it. First, we can look at the data in a table. Then we can plot it."
   ]
  },
  {
   "cell_type": "code",
   "execution_count": null,
   "id": "304530b5-0886-409f-b7a7-fa3f1289c16c",
   "metadata": {},
   "outputs": [],
   "source": [
    "errorbyyear = sales_df.groupby('year')['perc_diff'].mean()\n",
    "errorbyyear"
   ]
  },
  {
   "cell_type": "code",
   "execution_count": 909,
   "id": "aaa3bf0b-c000-4c36-98f6-f49c8429ada3",
   "metadata": {},
   "outputs": [
    {
     "data": {
      "text/plain": [
       "<seaborn.axisgrid.FacetGrid at 0x229def33ef0>"
      ]
     },
     "execution_count": 909,
     "metadata": {},
     "output_type": "execute_result"
    },
    {
     "data": {
      "image/png": "[encoded data removed]",
      "text/plain": [
       "<Figure size 500x500 with 1 Axes>"
      ]
     },
     "metadata": {},
     "output_type": "display_data"
    }
   ],
   "source": [
    "plot = sns.relplot(data=errorbyyear, kind='line')\n",
    "\n",
    "plot.set_xlabels('Year')\n",
    "plot.set_ylabels('% Error')\n",
    "plot.fig.suptitle('Error in Sales Estimation by Year')\n",
    "plot.set(ylim=(0, 15))"
   ]
  },
  {
   "cell_type": "markdown",
   "id": "c0b7ea0f-07a5-4dc8-bce8-af2e25f6a789",
   "metadata": {},
   "source": [
    "Conclusion: The data shows no significant improvement or decline in VGI's ability to accurately predict sales over the years. While there is some slight fluctuation, their estimates for any given year usually average out to about 10% error."
   ]
  },
  {
   "cell_type": "markdown",
   "id": "a94905c0-90a7-4d5a-a8b6-1e993b584a44",
   "metadata": {},
   "source": [
    "### Question 2: Do free-to-play games or pay-to-play games get more followers?"
   ]
  },
  {
   "cell_type": "markdown",
   "id": "5f03e0e9-123d-4a5a-a41b-9c18fdd44b85",
   "metadata": {},
   "source": [
    "The rest of the data in this study came from more dynamic datasets; the tables were scrollable, so not all the data was visible at once. They were extracted using a different approach with the Playwright package. The following is a data scraping function that gets reused for the next three questions."
   ]
  },
  {
   "cell_type": "code",
   "execution_count": null,
   "id": "f2587495-57aa-41b4-abea-d083289b0529",
   "metadata": {},
   "outputs": [],
   "source": [
    "# This function pulls from class notes as well as from chatGPT. AI helped create the code block that checks for a 'Next Page' button \n",
    "#and scrolls through each page to collect the entire table of data.\n",
    "async def scrape_multipage(url):\n",
    "    async with async_playwright() as p:\n",
    "        # Launch browser\n",
    "        browser = await p.chromium.launch(headless=False)  # Set headless=True for headless mode\n",
    "        page = await browser.new_page()\n",
    "\n",
    "        # Open the webpage with the table\n",
    "        await page.goto(url)\n",
    "\n",
    "        # Wait for the table to load initially\n",
    "        await page.wait_for_selector(\"table\")  # Adjust to a more specific table selector if necessary\n",
    "\n",
    "        #Cumulative list of all rows from each page\n",
    "        all_rows = []\n",
    "        headers = []\n",
    "\n",
    "        # Loop to click the \"Next\" button and scrape data\n",
    "        while True:\n",
    "            # Wait for the table to load (you can adjust the selector if necessary)\n",
    "            table_html = await page.inner_html(\"table\")\n",
    "            \n",
    "            # Extract the table HTML and parse it with BeautifulSoup\n",
    "            soup = bs(table_html, \"html.parser\")\n",
    "\n",
    "            # Extract headers (assuming <th> tags)\n",
    "            hrows = soup.find_all(\"tr\")\n",
    "            header_row = hrows[1]  # The second row (0-indexed)\n",
    "            headers = [th.text.strip() for th in header_row.find_all(\"th\")]\n",
    "            \n",
    "            # Extract rows (assuming <tr> tags)\n",
    "            rows = []\n",
    "            for tr in soup.find_all(\"tr\")[1:]:  # Skip the header row\n",
    "                cells = tr.find_all(\"td\")\n",
    "                row = [cell.text.strip() for cell in cells]\n",
    "                rows.append(row)\n",
    "            \n",
    "            # Append the rows to the all_rows list\n",
    "            all_rows.extend(rows)\n",
    "\n",
    "            # Now try to click the \"Next\" button to load the next page of data\n",
    "            try:\n",
    "                # Wait for the \"Next\" button to be visible and click it\n",
    "                next_button = await page.query_selector(\"button[aria-label='Next Page']\") \n",
    "                if next_button:\n",
    "                    await next_button.click()\n",
    "                    await page.wait_for_timeout(2000)  # Wait for the page to load (adjust the timeout as needed)\n",
    "                else:\n",
    "                    break  # Break the loop if there's no \"Next\" button (end of pagination)\n",
    "            except Exception as e:\n",
    "                print(\"Error clicking next button:\", e)\n",
    "                break  # Break the loop if an error occurs or no next button is found\n",
    "\n",
    "        # Close the browser\n",
    "        await browser.close()\n",
    "\n",
    "        # Create and return a DataFrame from the collected rows\n",
    "        df = pd.DataFrame(all_rows, columns=headers)\n",
    "        return df        \n"
   ]
  },
  {
   "cell_type": "code",
   "execution_count": null,
   "id": "75a863b7-f50f-4a35-8c51-472360d643fc",
   "metadata": {},
   "outputs": [],
   "source": [
    "url='https://vginsights.com/games-database'\n",
    "\n",
    "games_df = asyncio.run(scrape_multipage(url))"
   ]
  },
  {
   "cell_type": "code",
   "execution_count": null,
   "id": "5ed58cec-38d9-485a-83c6-11c5780be93f",
   "metadata": {},
   "outputs": [],
   "source": [
    "games_df.head()"
   ]
  },
  {
   "cell_type": "markdown",
   "id": "0f768c71-0467-4721-b655-6fdc84eb4e1d",
   "metadata": {},
   "source": [
    "Let's explore the game data a bit more."
   ]
  },
  {
   "cell_type": "code",
   "execution_count": null,
   "id": "9379ac20-8fd0-409e-93bd-80d0a4531010",
   "metadata": {},
   "outputs": [],
   "source": [
    "games_df.info()"
   ]
  },
  {
   "cell_type": "code",
   "execution_count": null,
   "id": "7399e16f-653e-4a62-a806-42037e3a8bc7",
   "metadata": {},
   "outputs": [],
   "source": [
    "games_df[games_df['Name'].isnull()]"
   ]
  },
  {
   "cell_type": "markdown",
   "id": "94e07f84-91d9-4be5-99b9-48a31420363f",
   "metadata": {},
   "source": [
    "It looks like the data scraping brought some nulls into our dataframe. We'll have to remove those, and convert the prices into numeric values like we did before. For the prices that say 'Free', we'll change it to say 0 instead. Then we'll convert the followers to a numeric as well."
   ]
  },
  {
   "cell_type": "code",
   "execution_count": null,
   "id": "5f530383-d9a9-4b6f-99f2-99ceb6b774a7",
   "metadata": {},
   "outputs": [],
   "source": [
    "games_df.dropna(inplace = True)"
   ]
  },
  {
   "cell_type": "code",
   "execution_count": null,
   "id": "f04b9e1d-a733-43a4-aa81-0c59d502b99c",
   "metadata": {},
   "outputs": [],
   "source": [
    "games_df['Price'] = games_df['Price'].replace('Free', '$0')"
   ]
  },
  {
   "cell_type": "code",
   "execution_count": null,
   "id": "ccb3c911-5518-427d-bde8-5958ded94873",
   "metadata": {},
   "outputs": [],
   "source": [
    "games_df['Price'] = games_df['Price'].str.strip('$').astype(float)"
   ]
  },
  {
   "cell_type": "code",
   "execution_count": null,
   "id": "d60b566b-94eb-4c5c-9e48-be5972a4ee37",
   "metadata": {},
   "outputs": [],
   "source": [
    "games_df['Price']"
   ]
  },
  {
   "cell_type": "code",
   "execution_count": null,
   "id": "eae43634-6050-42ef-8b45-f2968758a759",
   "metadata": {},
   "outputs": [],
   "source": [
    "for value in games_df['Followers']:\n",
    "    v = str(value).replace(',', '')    \n",
    "    split = re.split('([km]+)', v)\n",
    "    if 'k' in split:\n",
    "        num = float(split[0])\n",
    "        games_df['Followers'] = games_df['Followers'].replace(value, num * 1000)\n",
    "    elif 'm' in split:\n",
    "        num = float(split[0])\n",
    "        games_df['Followers'] = games_df['Followers'].replace(value, num * 1000000)\n",
    "    else:\n",
    "        num = float(v)\n",
    "        games_df['Followers'] = games_df['Followers'].replace(value, num)"
   ]
  },
  {
   "cell_type": "code",
   "execution_count": null,
   "id": "ae918ae9-8a0b-4766-8ecd-08354ac85679",
   "metadata": {},
   "outputs": [],
   "source": [
    "games_df['Followers']"
   ]
  },
  {
   "cell_type": "code",
   "execution_count": null,
   "id": "2888e4bc-d299-43dd-b6a5-0a3ec32d77f3",
   "metadata": {},
   "outputs": [],
   "source": [
    "games_df.info()"
   ]
  },
  {
   "cell_type": "markdown",
   "id": "71f52050-3746-4d81-a552-b927f5a9fbff",
   "metadata": {},
   "source": [
    "Now that we have the right fields as numerics, our code is ready to answer our question."
   ]
  },
  {
   "cell_type": "code",
   "execution_count": null,
   "id": "c4e55b69-42d9-4b56-a865-056e088095dc",
   "metadata": {},
   "outputs": [],
   "source": [
    "games_df['Free or Pay'] = games_df['Price'].apply(lambda x: 'Free' if x == 0 else 'Pay to Play')"
   ]
  },
  {
   "cell_type": "code",
   "execution_count": 1044,
   "id": "3e35273e-3970-4545-a946-9aa220e8149a",
   "metadata": {},
   "outputs": [
    {
     "data": {
      "text/plain": [
       "Free or Pay\n",
       "Free            42051560.0\n",
       "Pay to Play    101244735.0\n",
       "Name: Followers, dtype: float64"
      ]
     },
     "execution_count": 1044,
     "metadata": {},
     "output_type": "execute_result"
    }
   ],
   "source": [
    "games_df.groupby('Free or Pay')['Followers'].sum()"
   ]
  },
  {
   "cell_type": "code",
   "execution_count": 1046,
   "id": "75a78fc4-f2d8-426b-8959-b64337bda552",
   "metadata": {},
   "outputs": [
    {
     "data": {
      "text/plain": [
       "Free or Pay\n",
       "Free           793425.660377\n",
       "Pay to Play    489105.000000\n",
       "Name: Followers, dtype: float64"
      ]
     },
     "execution_count": 1046,
     "metadata": {},
     "output_type": "execute_result"
    }
   ],
   "source": [
    "games_df.groupby('Free or Pay')['Followers'].mean()"
   ]
  },
  {
   "cell_type": "markdown",
   "id": "1b2b42d8-6ea1-4025-b793-1b4009e8641c",
   "metadata": {},
   "source": [
    "Conclusions: While Pay to Play games have more followers due to sheer numbers, Free games have more followers per game on average. It stands to reason that Free games are more popular, but they don't make up a majority of the Steam market."
   ]
  },
  {
   "cell_type": "markdown",
   "id": "972a84d4-3a2d-4d68-b946-0e1356099d1b",
   "metadata": {},
   "source": [
    "### Question 3: What percentage of a publisher's library is classified as action games, on average? What about other genres?"
   ]
  },
  {
   "cell_type": "code",
   "execution_count": null,
   "id": "24a2dedf-f258-4a91-b47c-ae74a04e9804",
   "metadata": {},
   "outputs": [],
   "source": [
    "url = 'https://vginsights.com/publishers-database'\n",
    "\n",
    "publishers_df = asyncio.run(scrape_multipage(url))"
   ]
  },
  {
   "cell_type": "code",
   "execution_count": null,
   "id": "88c37139-aff8-4f6e-9696-0d3cabb35c95",
   "metadata": {},
   "outputs": [],
   "source": [
    "publishers_df"
   ]
  },
  {
   "cell_type": "markdown",
   "id": "0f0925f9-624a-4eb3-89af-7ff99c480365",
   "metadata": {},
   "source": [
    "We'll first need to clean the data like before. We'll remove all the null values, then remove the percentage signs and make the values numeric."
   ]
  },
  {
   "cell_type": "code",
   "execution_count": null,
   "id": "1340e3bd-947e-436b-a0f8-2a4cb4ea6905",
   "metadata": {},
   "outputs": [],
   "source": [
    "publishers_df.dropna(inplace = True)"
   ]
  },
  {
   "cell_type": "code",
   "execution_count": null,
   "id": "b4ecb4c3-d1fb-40fc-8ca3-0c3abf7e9f59",
   "metadata": {},
   "outputs": [],
   "source": [
    "publishers_df['Action'] = publishers_df['Action'].str.rstrip('%').astype(float)\n",
    "publishers_df['Casual'] = publishers_df['Casual'].str.rstrip('%').astype(float)\n",
    "publishers_df['Adventure'] = publishers_df['Adventure'].str.rstrip('%').astype(float)\n",
    "publishers_df['Simulation'] = publishers_df['Simulation'].str.rstrip('%').astype(float)\n",
    "publishers_df['Strategy'] = publishers_df['Strategy'].str.rstrip('%').astype(float)\n",
    "publishers_df['RPG'] = publishers_df['RPG'].str.rstrip('%').astype(float)\n",
    "publishers_df['MMO'] = publishers_df['MMO'].str.rstrip('%').astype(float)\n",
    "publishers_df['Racing'] = publishers_df['Racing'].str.rstrip('%').astype(float)\n",
    "publishers_df['Sports'] = publishers_df['Sports'].str.rstrip('%').astype(float)"
   ]
  },
  {
   "cell_type": "code",
   "execution_count": null,
   "id": "5a4d53ca-0276-4930-a444-b55ee4f3b50c",
   "metadata": {},
   "outputs": [],
   "source": [
    "publishers_df.info()"
   ]
  },
  {
   "cell_type": "markdown",
   "id": "45df5ab6-d2d5-45e7-a85e-37320e3eb231",
   "metadata": {},
   "source": [
    "Now we can subset our data and make some visuals."
   ]
  },
  {
   "cell_type": "code",
   "execution_count": 835,
   "id": "ee1fda9c-5108-4ec4-a6df-70d7d6911627",
   "metadata": {},
   "outputs": [],
   "source": [
    "genres = publishers_df[['Action', 'Casual', 'Adventure', 'Simulation', 'Strategy', 'RPG', 'MMO', 'Racing', 'Sports']]\n",
    "\n",
    "percents = genres.mean().round(1)\n",
    "sortperc = percents.sort_values(ascending = True)"
   ]
  },
  {
   "cell_type": "code",
   "execution_count": 837,
   "id": "f1031884-8560-4fd9-8e65-a29acedc87fe",
   "metadata": {},
   "outputs": [
    {
     "data": {
      "text/plain": [
       "Text(0, 0.5, 'Genre')"
      ]
     },
     "execution_count": 837,
     "metadata": {},
     "output_type": "execute_result"
    },
    {
     "data": {
      "image/png": "[encoded data removed]",
      "text/plain": [
       "<Figure size 640x480 with 1 Axes>"
      ]
     },
     "metadata": {},
     "output_type": "display_data"
    }
   ],
   "source": [
    "colors = ['#eaeaea']*7 + ['orange']*2\n",
    "ax = sortperc.plot(kind='barh', color=colors)\n",
    "for index, value in enumerate(sortperc): # Iterate through each row and isolate the x & y values\n",
    "    ax.annotate(str(value), xy=(value, index), xytext=(5, 0), # Add the label to each bar\n",
    "                textcoords='offset points', va='center') # Set alignment\n",
    "\n",
    "plot.title(\"Action & Adventure Games Make Up a Majority of Most Publishers' Libraries\")\n",
    "plot.xlabel('% of Libraries')\n",
    "plot.ylabel('Genre')"
   ]
  },
  {
   "cell_type": "markdown",
   "id": "e9975858-6bd1-4b0c-b6c7-537ff3da51f3",
   "metadata": {},
   "source": [
    "Conclusion: Two genres stand out as a large part of most publishers' libraries - action and adventure. MMO, Sports, and Racing games tend to only be a smaller portion of their libraries."
   ]
  },
  {
   "cell_type": "markdown",
   "id": "75d6c9f2-d128-4980-8793-debbae04ad1c",
   "metadata": {},
   "source": [
    "### Question 4: Do developers from different regions of the world make the same revenue per game, on average? Does their classification have any impact?"
   ]
  },
  {
   "cell_type": "code",
   "execution_count": 911,
   "id": "1f95d5d0-9c8b-42be-ac52-37d7064b25b2",
   "metadata": {},
   "outputs": [
    {
     "name": "stdout",
     "output_type": "stream",
     "text": [
      "Error clicking next button: Timeout 30000ms exceeded.\n"
     ]
    }
   ],
   "source": [
    "url = 'https://vginsights.com/developers-database'\n",
    "\n",
    "developers_df = asyncio.run(scrape_multipage(url))"
   ]
  },
  {
   "cell_type": "code",
   "execution_count": 913,
   "id": "22f945c2-f639-48aa-9169-e55ba97339a3",
   "metadata": {},
   "outputs": [
    {
     "data": {
      "text/html": [
       "<div>\n",
       "<style scoped>\n",
       "    .dataframe tbody tr th:only-of-type {\n",
       "        vertical-align: middle;\n",
       "    }\n",
       "\n",
       "    .dataframe tbody tr th {\n",
       "        vertical-align: top;\n",
       "    }\n",
       "\n",
       "    .dataframe thead th {\n",
       "        text-align: right;\n",
       "    }\n",
       "</style>\n",
       "<table border=\"1\" class=\"dataframe\">\n",
       "  <thead>\n",
       "    <tr style=\"text-align: right;\">\n",
       "      <th></th>\n",
       "      <th>#</th>\n",
       "      <th>Name</th>\n",
       "      <th>Classification</th>\n",
       "      <th>Released games</th>\n",
       "      <th>Unreleased games</th>\n",
       "      <th>Total revenue</th>\n",
       "      <th>Avg revenue per game</th>\n",
       "      <th>Med revenue per game  [1]</th>\n",
       "      <th>HQ country</th>\n",
       "      <th>% developed in-house</th>\n",
       "      <th>% indie releases</th>\n",
       "      <th>Action</th>\n",
       "      <th>Casual</th>\n",
       "      <th>Adventure</th>\n",
       "      <th>Simulation</th>\n",
       "      <th>Strategy</th>\n",
       "      <th>RPG</th>\n",
       "      <th>MMO</th>\n",
       "      <th>Racing</th>\n",
       "      <th>Sports</th>\n",
       "    </tr>\n",
       "  </thead>\n",
       "  <tbody>\n",
       "    <tr>\n",
       "      <th>0</th>\n",
       "      <td>None</td>\n",
       "      <td>None</td>\n",
       "      <td>None</td>\n",
       "      <td>None</td>\n",
       "      <td>None</td>\n",
       "      <td>None</td>\n",
       "      <td>None</td>\n",
       "      <td>None</td>\n",
       "      <td>None</td>\n",
       "      <td>None</td>\n",
       "      <td>None</td>\n",
       "      <td>None</td>\n",
       "      <td>None</td>\n",
       "      <td>None</td>\n",
       "      <td>None</td>\n",
       "      <td>None</td>\n",
       "      <td>None</td>\n",
       "      <td>None</td>\n",
       "      <td>None</td>\n",
       "      <td>None</td>\n",
       "    </tr>\n",
       "    <tr>\n",
       "      <th>1</th>\n",
       "      <td>1</td>\n",
       "      <td>Valve</td>\n",
       "      <td>AAA</td>\n",
       "      <td>36</td>\n",
       "      <td>1</td>\n",
       "      <td>$2.3bn</td>\n",
       "      <td>$64.2m</td>\n",
       "      <td>$45.8m</td>\n",
       "      <td>United States</td>\n",
       "      <td>35%</td>\n",
       "      <td>3%</td>\n",
       "      <td>78%</td>\n",
       "      <td>11%</td>\n",
       "      <td>11%</td>\n",
       "      <td>3%</td>\n",
       "      <td>11%</td>\n",
       "      <td>0%</td>\n",
       "      <td>3%</td>\n",
       "      <td>0%</td>\n",
       "      <td>0%</td>\n",
       "    </tr>\n",
       "    <tr>\n",
       "      <th>2</th>\n",
       "      <td>2</td>\n",
       "      <td>Ubisoft</td>\n",
       "      <td>AAA</td>\n",
       "      <td>122</td>\n",
       "      <td>1</td>\n",
       "      <td>$2bn</td>\n",
       "      <td>$16.2m</td>\n",
       "      <td>$1.8m</td>\n",
       "      <td></td>\n",
       "      <td>28%</td>\n",
       "      <td>4%</td>\n",
       "      <td>90%</td>\n",
       "      <td>19%</td>\n",
       "      <td>72%</td>\n",
       "      <td>15%</td>\n",
       "      <td>13%</td>\n",
       "      <td>15%</td>\n",
       "      <td>7%</td>\n",
       "      <td>5%</td>\n",
       "      <td>11%</td>\n",
       "    </tr>\n",
       "    <tr>\n",
       "      <th>3</th>\n",
       "      <td>3</td>\n",
       "      <td>Capcom</td>\n",
       "      <td>AAA</td>\n",
       "      <td>84</td>\n",
       "      <td>2</td>\n",
       "      <td>$1.8bn</td>\n",
       "      <td>$21.3m</td>\n",
       "      <td>$5.3m</td>\n",
       "      <td>Japan</td>\n",
       "      <td>77%</td>\n",
       "      <td>1%</td>\n",
       "      <td>91%</td>\n",
       "      <td>0%</td>\n",
       "      <td>38%</td>\n",
       "      <td>0%</td>\n",
       "      <td>1%</td>\n",
       "      <td>13%</td>\n",
       "      <td>0%</td>\n",
       "      <td>0%</td>\n",
       "      <td>0%</td>\n",
       "    </tr>\n",
       "    <tr>\n",
       "      <th>4</th>\n",
       "      <td>4</td>\n",
       "      <td>Feral Interactive</td>\n",
       "      <td>AA</td>\n",
       "      <td>44</td>\n",
       "      <td>0</td>\n",
       "      <td>$1.8bn</td>\n",
       "      <td>$40.4m</td>\n",
       "      <td>$33.3m</td>\n",
       "      <td>United Kingdom</td>\n",
       "      <td>43%</td>\n",
       "      <td>0%</td>\n",
       "      <td>82%</td>\n",
       "      <td>0%</td>\n",
       "      <td>43%</td>\n",
       "      <td>27%</td>\n",
       "      <td>57%</td>\n",
       "      <td>9%</td>\n",
       "      <td>0%</td>\n",
       "      <td>30%</td>\n",
       "      <td>27%</td>\n",
       "    </tr>\n",
       "    <tr>\n",
       "      <th>...</th>\n",
       "      <td>...</td>\n",
       "      <td>...</td>\n",
       "      <td>...</td>\n",
       "      <td>...</td>\n",
       "      <td>...</td>\n",
       "      <td>...</td>\n",
       "      <td>...</td>\n",
       "      <td>...</td>\n",
       "      <td>...</td>\n",
       "      <td>...</td>\n",
       "      <td>...</td>\n",
       "      <td>...</td>\n",
       "      <td>...</td>\n",
       "      <td>...</td>\n",
       "      <td>...</td>\n",
       "      <td>...</td>\n",
       "      <td>...</td>\n",
       "      <td>...</td>\n",
       "      <td>...</td>\n",
       "      <td>...</td>\n",
       "    </tr>\n",
       "    <tr>\n",
       "      <th>269</th>\n",
       "      <td>256</td>\n",
       "      <td>TheLiquidHorse</td>\n",
       "      <td>Indie</td>\n",
       "      <td>1</td>\n",
       "      <td>0</td>\n",
       "      <td>$47.2m</td>\n",
       "      <td>$47.2m</td>\n",
       "      <td>$47.2m</td>\n",
       "      <td></td>\n",
       "      <td>0%</td>\n",
       "      <td>0%</td>\n",
       "      <td>100%</td>\n",
       "      <td>0%</td>\n",
       "      <td>0%</td>\n",
       "      <td>0%</td>\n",
       "      <td>0%</td>\n",
       "      <td>0%</td>\n",
       "      <td>100%</td>\n",
       "      <td>0%</td>\n",
       "      <td>0%</td>\n",
       "    </tr>\n",
       "    <tr>\n",
       "      <th>270</th>\n",
       "      <td>257</td>\n",
       "      <td>SgtOkiDoki</td>\n",
       "      <td>Indie</td>\n",
       "      <td>1</td>\n",
       "      <td>0</td>\n",
       "      <td>$47.2m</td>\n",
       "      <td>$47.2m</td>\n",
       "      <td>$47.2m</td>\n",
       "      <td></td>\n",
       "      <td>1%</td>\n",
       "      <td>0%</td>\n",
       "      <td>100%</td>\n",
       "      <td>0%</td>\n",
       "      <td>0%</td>\n",
       "      <td>0%</td>\n",
       "      <td>0%</td>\n",
       "      <td>0%</td>\n",
       "      <td>100%</td>\n",
       "      <td>0%</td>\n",
       "      <td>0%</td>\n",
       "    </tr>\n",
       "    <tr>\n",
       "      <th>271</th>\n",
       "      <td>258</td>\n",
       "      <td>Vilaskis</td>\n",
       "      <td>Indie</td>\n",
       "      <td>1</td>\n",
       "      <td>0</td>\n",
       "      <td>$47.2m</td>\n",
       "      <td>$47.2m</td>\n",
       "      <td>$47.2m</td>\n",
       "      <td></td>\n",
       "      <td>0%</td>\n",
       "      <td>0%</td>\n",
       "      <td>100%</td>\n",
       "      <td>0%</td>\n",
       "      <td>0%</td>\n",
       "      <td>0%</td>\n",
       "      <td>0%</td>\n",
       "      <td>0%</td>\n",
       "      <td>100%</td>\n",
       "      <td>0%</td>\n",
       "      <td>0%</td>\n",
       "    </tr>\n",
       "    <tr>\n",
       "      <th>272</th>\n",
       "      <td>259</td>\n",
       "      <td>Starbreeze Studios</td>\n",
       "      <td>Indie</td>\n",
       "      <td>6</td>\n",
       "      <td>0</td>\n",
       "      <td>$47.2m</td>\n",
       "      <td>$7.9m</td>\n",
       "      <td>$1.4m</td>\n",
       "      <td>Sweden</td>\n",
       "      <td>1%</td>\n",
       "      <td>17%</td>\n",
       "      <td>83%</td>\n",
       "      <td>0%</td>\n",
       "      <td>50%</td>\n",
       "      <td>0%</td>\n",
       "      <td>17%</td>\n",
       "      <td>33%</td>\n",
       "      <td>0%</td>\n",
       "      <td>0%</td>\n",
       "      <td>0%</td>\n",
       "    </tr>\n",
       "    <tr>\n",
       "      <th>273</th>\n",
       "      <td>260</td>\n",
       "      <td>SUPERHOT Team</td>\n",
       "      <td>Indie</td>\n",
       "      <td>3</td>\n",
       "      <td>0</td>\n",
       "      <td>$47.1m</td>\n",
       "      <td>$15.7m</td>\n",
       "      <td>$13.4m</td>\n",
       "      <td>Poland</td>\n",
       "      <td>3%</td>\n",
       "      <td>100%</td>\n",
       "      <td>100%</td>\n",
       "      <td>0%</td>\n",
       "      <td>0%</td>\n",
       "      <td>0%</td>\n",
       "      <td>0%</td>\n",
       "      <td>0%</td>\n",
       "      <td>0%</td>\n",
       "      <td>0%</td>\n",
       "      <td>0%</td>\n",
       "    </tr>\n",
       "  </tbody>\n",
       "</table>\n",
       "<p>274 rows × 20 columns</p>\n",
       "</div>"
      ],
      "text/plain": [
       "        #                Name Classification Released games Unreleased games  \\\n",
       "0    None                None           None           None             None   \n",
       "1       1               Valve            AAA             36                1   \n",
       "2       2             Ubisoft            AAA            122                1   \n",
       "3       3              Capcom            AAA             84                2   \n",
       "4       4   Feral Interactive             AA             44                0   \n",
       "..    ...                 ...            ...            ...              ...   \n",
       "269   256      TheLiquidHorse          Indie              1                0   \n",
       "270   257          SgtOkiDoki          Indie              1                0   \n",
       "271   258            Vilaskis          Indie              1                0   \n",
       "272   259  Starbreeze Studios          Indie              6                0   \n",
       "273   260       SUPERHOT Team          Indie              3                0   \n",
       "\n",
       "    Total revenue Avg revenue per game Med revenue per game  [1]  \\\n",
       "0            None                 None                      None   \n",
       "1          $2.3bn               $64.2m                    $45.8m   \n",
       "2            $2bn               $16.2m                     $1.8m   \n",
       "3          $1.8bn               $21.3m                     $5.3m   \n",
       "4          $1.8bn               $40.4m                    $33.3m   \n",
       "..            ...                  ...                       ...   \n",
       "269        $47.2m               $47.2m                    $47.2m   \n",
       "270        $47.2m               $47.2m                    $47.2m   \n",
       "271        $47.2m               $47.2m                    $47.2m   \n",
       "272        $47.2m                $7.9m                     $1.4m   \n",
       "273        $47.1m               $15.7m                    $13.4m   \n",
       "\n",
       "         HQ country % developed in-house % indie releases Action Casual  \\\n",
       "0              None                 None             None   None   None   \n",
       "1     United States                  35%               3%    78%    11%   \n",
       "2                                    28%               4%    90%    19%   \n",
       "3             Japan                  77%               1%    91%     0%   \n",
       "4    United Kingdom                  43%               0%    82%     0%   \n",
       "..              ...                  ...              ...    ...    ...   \n",
       "269                                   0%               0%   100%     0%   \n",
       "270                                   1%               0%   100%     0%   \n",
       "271                                   0%               0%   100%     0%   \n",
       "272          Sweden                   1%              17%    83%     0%   \n",
       "273          Poland                   3%             100%   100%     0%   \n",
       "\n",
       "    Adventure Simulation Strategy   RPG   MMO Racing Sports  \n",
       "0        None       None     None  None  None   None   None  \n",
       "1         11%         3%      11%    0%    3%     0%     0%  \n",
       "2         72%        15%      13%   15%    7%     5%    11%  \n",
       "3         38%         0%       1%   13%    0%     0%     0%  \n",
       "4         43%        27%      57%    9%    0%    30%    27%  \n",
       "..        ...        ...      ...   ...   ...    ...    ...  \n",
       "269        0%         0%       0%    0%  100%     0%     0%  \n",
       "270        0%         0%       0%    0%  100%     0%     0%  \n",
       "271        0%         0%       0%    0%  100%     0%     0%  \n",
       "272       50%         0%      17%   33%    0%     0%     0%  \n",
       "273        0%         0%       0%    0%    0%     0%     0%  \n",
       "\n",
       "[274 rows x 20 columns]"
      ]
     },
     "execution_count": 913,
     "metadata": {},
     "output_type": "execute_result"
    }
   ],
   "source": [
    "developers_df"
   ]
  },
  {
   "cell_type": "markdown",
   "id": "0c3dca78-bdc1-4d00-b43c-58f3bd3791fc",
   "metadata": {},
   "source": [
    "First, similar to before, we need to reformat the revenue column. We also need to condense the countries to make the plot easier to read."
   ]
  },
  {
   "cell_type": "code",
   "execution_count": 940,
   "id": "2dd56ecb-ba99-490c-9469-7b2a8d1d955e",
   "metadata": {},
   "outputs": [
    {
     "data": {
      "text/plain": [
       "1      64.2\n",
       "2      16.2\n",
       "3      21.3\n",
       "4      40.4\n",
       "5      72.8\n",
       "       ... \n",
       "269    47.2\n",
       "270    47.2\n",
       "271    47.2\n",
       "272     7.9\n",
       "273    15.7\n",
       "Name: Avg revenue per game, Length: 260, dtype: float64"
      ]
     },
     "execution_count": 940,
     "metadata": {},
     "output_type": "execute_result"
    }
   ],
   "source": [
    "developers_df['Avg revenue per game']"
   ]
  },
  {
   "cell_type": "code",
   "execution_count": 918,
   "id": "431ee5ad-36a9-4a17-afc8-9024198c16ca",
   "metadata": {},
   "outputs": [],
   "source": [
    "developers_df.dropna(inplace = True)"
   ]
  },
  {
   "cell_type": "code",
   "execution_count": 920,
   "id": "302e9029-e63b-4b54-a71a-8245acf062e8",
   "metadata": {},
   "outputs": [],
   "source": [
    "developers_df['Avg revenue per game'] = developers_df['Avg revenue per game'].str.strip('$')"
   ]
  },
  {
   "cell_type": "code",
   "execution_count": 926,
   "id": "68f8dedd-74f5-41ad-aa5d-02fc671b2af4",
   "metadata": {},
   "outputs": [],
   "source": [
    "developers_df['Avg revenue per game'] = developers_df['Avg revenue per game'].str.strip('m')"
   ]
  },
  {
   "cell_type": "code",
   "execution_count": 1018,
   "id": "d42b66dd-9b4d-423c-97ba-c14144e4e1b9",
   "metadata": {},
   "outputs": [],
   "source": [
    "developers_df['Avg revenue per game'] = developers_df['Avg revenue per game'].replace('1.2bn', '1200')\n",
    "developers_df = developers_df[developers_df['Avg revenue per game'] != 1200] # This value is an outlier so I've chosen to remove it to make the rest of the data more meaningful."
   ]
  },
  {
   "cell_type": "code",
   "execution_count": 958,
   "id": "d01a1774-3546-4ea4-8d30-5daba8165fc1",
   "metadata": {},
   "outputs": [],
   "source": [
    "developers_df['HQ country'] = developers_df['HQ country'].replace('', 'International')"
   ]
  },
  {
   "cell_type": "code",
   "execution_count": 968,
   "id": "0b388314-027b-4dda-8bc4-788057259fd7",
   "metadata": {},
   "outputs": [],
   "source": [
    "developers_df['HQ country'] = developers_df['HQ country'].replace(['United States', 'Canada', 'Mexico'], 'North America')"
   ]
  },
  {
   "cell_type": "code",
   "execution_count": 970,
   "id": "b8d5a8f2-3684-4ccc-97e9-8619f41fecfd",
   "metadata": {},
   "outputs": [],
   "source": [
    "developers_df['HQ country'] = developers_df['HQ country'].replace(['United Kingdom', 'Poland', 'Belgium', 'Sweden', 'Netherlands', 'France', 'Ireland', 'Germany', 'Switzerland', 'Denmark', 'Spain', 'Croatia', 'Finland', 'Bulgaria', 'Estonia', 'Norway', 'Cyprus', 'Austria', 'Italy', 'Czech Republic'], 'Europe')"
   ]
  },
  {
   "cell_type": "code",
   "execution_count": 982,
   "id": "b1f43430-54b9-4926-903d-9a1c8fa37092",
   "metadata": {},
   "outputs": [],
   "source": [
    "developers_df['HQ country'] = developers_df['HQ country'].replace(['Japan', 'China', 'Ukraine', 'Turkey'], 'Asia')"
   ]
  },
  {
   "cell_type": "code",
   "execution_count": 978,
   "id": "9319ea4f-0f34-4c02-bff9-a63769567931",
   "metadata": {},
   "outputs": [],
   "source": [
    "developers_df['HQ country'] = developers_df['HQ country'].replace('Colombia', 'South America')"
   ]
  },
  {
   "cell_type": "code",
   "execution_count": 974,
   "id": "51d73f0a-e1b8-4c6e-8205-d5f967217398",
   "metadata": {},
   "outputs": [],
   "source": [
    "developers_df['HQ country'] = developers_df['HQ country'].replace('Egypt', 'Africa')"
   ]
  },
  {
   "cell_type": "code",
   "execution_count": 984,
   "id": "2ab170bf-9159-4b3e-b1d5-f0408a2b358c",
   "metadata": {},
   "outputs": [
    {
     "data": {
      "text/plain": [
       "array(['North America', 'International', 'Asia', 'Europe', 'Africa',\n",
       "       'South America', 'Australia'], dtype=object)"
      ]
     },
     "execution_count": 984,
     "metadata": {},
     "output_type": "execute_result"
    }
   ],
   "source": [
    "developers_df['HQ country'].unique()"
   ]
  },
  {
   "cell_type": "code",
   "execution_count": 936,
   "id": "a9ee75fb-d2a1-4dd3-90e2-df3580f21bdc",
   "metadata": {},
   "outputs": [],
   "source": [
    "for value in developers_df['Avg revenue per game']:  \n",
    "    developers_df['Avg revenue per game'] = developers_df['Avg revenue per game'].replace(value, float(value))"
   ]
  },
  {
   "cell_type": "markdown",
   "id": "1befb4a7-6de1-4013-8665-bebe91bb3090",
   "metadata": {},
   "source": [
    "Now we can perform our calculations."
   ]
  },
  {
   "cell_type": "code",
   "execution_count": 1022,
   "id": "1634813e-58b5-4f16-815c-7d165e0bc748",
   "metadata": {},
   "outputs": [],
   "source": [
    "classes = developers_df.groupby(['HQ country', 'Classification'])['Avg revenue per game'].mean()"
   ]
  },
  {
   "cell_type": "code",
   "execution_count": 1024,
   "id": "4d599a25-2d75-4a88-af17-cfa60fa56256",
   "metadata": {},
   "outputs": [
    {
     "data": {
      "text/html": [
       "<div>\n",
       "<style scoped>\n",
       "    .dataframe tbody tr th:only-of-type {\n",
       "        vertical-align: middle;\n",
       "    }\n",
       "\n",
       "    .dataframe tbody tr th {\n",
       "        vertical-align: top;\n",
       "    }\n",
       "\n",
       "    .dataframe thead th {\n",
       "        text-align: right;\n",
       "    }\n",
       "</style>\n",
       "<table border=\"1\" class=\"dataframe\">\n",
       "  <thead>\n",
       "    <tr style=\"text-align: right;\">\n",
       "      <th></th>\n",
       "      <th></th>\n",
       "      <th>Avg revenue per game</th>\n",
       "    </tr>\n",
       "    <tr>\n",
       "      <th>HQ country</th>\n",
       "      <th>Classification</th>\n",
       "      <th></th>\n",
       "    </tr>\n",
       "  </thead>\n",
       "  <tbody>\n",
       "    <tr>\n",
       "      <th>Africa</th>\n",
       "      <th>Indie</th>\n",
       "      <td>136.400000</td>\n",
       "    </tr>\n",
       "    <tr>\n",
       "      <th rowspan=\"3\" valign=\"top\">Asia</th>\n",
       "      <th>AA</th>\n",
       "      <td>48.750000</td>\n",
       "    </tr>\n",
       "    <tr>\n",
       "      <th>AAA</th>\n",
       "      <td>41.860000</td>\n",
       "    </tr>\n",
       "    <tr>\n",
       "      <th>Indie</th>\n",
       "      <td>74.338462</td>\n",
       "    </tr>\n",
       "    <tr>\n",
       "      <th rowspan=\"2\" valign=\"top\">Australia</th>\n",
       "      <th>AA</th>\n",
       "      <td>68.200000</td>\n",
       "    </tr>\n",
       "    <tr>\n",
       "      <th>Indie</th>\n",
       "      <td>29.100000</td>\n",
       "    </tr>\n",
       "    <tr>\n",
       "      <th rowspan=\"3\" valign=\"top\">Europe</th>\n",
       "      <th>AA</th>\n",
       "      <td>41.633333</td>\n",
       "    </tr>\n",
       "    <tr>\n",
       "      <th>AAA</th>\n",
       "      <td>32.100000</td>\n",
       "    </tr>\n",
       "    <tr>\n",
       "      <th>Indie</th>\n",
       "      <td>36.922581</td>\n",
       "    </tr>\n",
       "    <tr>\n",
       "      <th rowspan=\"3\" valign=\"top\">International</th>\n",
       "      <th>AA</th>\n",
       "      <td>63.450000</td>\n",
       "    </tr>\n",
       "    <tr>\n",
       "      <th>AAA</th>\n",
       "      <td>78.716667</td>\n",
       "    </tr>\n",
       "    <tr>\n",
       "      <th>Indie</th>\n",
       "      <td>62.632143</td>\n",
       "    </tr>\n",
       "    <tr>\n",
       "      <th rowspan=\"3\" valign=\"top\">North America</th>\n",
       "      <th>AA</th>\n",
       "      <td>56.190476</td>\n",
       "    </tr>\n",
       "    <tr>\n",
       "      <th>AAA</th>\n",
       "      <td>65.628571</td>\n",
       "    </tr>\n",
       "    <tr>\n",
       "      <th>Indie</th>\n",
       "      <td>58.223404</td>\n",
       "    </tr>\n",
       "    <tr>\n",
       "      <th>South America</th>\n",
       "      <th>Indie</th>\n",
       "      <td>114.100000</td>\n",
       "    </tr>\n",
       "  </tbody>\n",
       "</table>\n",
       "</div>"
      ],
      "text/plain": [
       "                              Avg revenue per game\n",
       "HQ country    Classification                      \n",
       "Africa        Indie                     136.400000\n",
       "Asia          AA                         48.750000\n",
       "              AAA                        41.860000\n",
       "              Indie                      74.338462\n",
       "Australia     AA                         68.200000\n",
       "              Indie                      29.100000\n",
       "Europe        AA                         41.633333\n",
       "              AAA                        32.100000\n",
       "              Indie                      36.922581\n",
       "International AA                         63.450000\n",
       "              AAA                        78.716667\n",
       "              Indie                      62.632143\n",
       "North America AA                         56.190476\n",
       "              AAA                        65.628571\n",
       "              Indie                      58.223404\n",
       "South America Indie                     114.100000"
      ]
     },
     "execution_count": 1024,
     "metadata": {},
     "output_type": "execute_result"
    }
   ],
   "source": [
    "classdf = pd.DataFrame(classes)\n",
    "classdf"
   ]
  },
  {
   "cell_type": "code",
   "execution_count": 1041,
   "id": "3002e43b-f333-45de-b167-228b47471125",
   "metadata": {},
   "outputs": [
    {
     "data": {
      "text/plain": [
       "Text(0.5, 1.0, 'Indie Developers Stand Out As High Earners')"
      ]
     },
     "execution_count": 1041,
     "metadata": {},
     "output_type": "execute_result"
    },
    {
     "data": {
      "image/png": "[encoded data removed]",
      "text/plain": [
       "<Figure size 1000x500 with 1 Axes>"
      ]
     },
     "metadata": {},
     "output_type": "display_data"
    }
   ],
   "source": [
    "plt.figure(figsize=(10, 5))\n",
    "graph = sns.barplot(data=classdf, x = 'HQ country', y = 'Avg revenue per game', hue = 'Classification') \n",
    "plt.xlabel('Region')\n",
    "plt.ylabel('Revenue per Game (millions)')\n",
    "graph.set_title('Indie Developers Stand Out As High Earners')"
   ]
  },
  {
   "cell_type": "markdown",
   "id": "046753dc-26d7-4e54-9b9e-4949a3d32095",
   "metadata": {},
   "source": [
    "Conclusions: South America and Africa stand out as earning the highest revenues per game, despite only having Indie developers. Most other regions are fairly distributed in their revenue both between regions and between developer classifications."
   ]
  },
  {
   "cell_type": "code",
   "execution_count": null,
   "id": "dae91ce5-cf11-480f-b45b-441fa7d9084d",
   "metadata": {},
   "outputs": [],
   "source": []
  }
 ],
 "metadata": {
  "kernelspec": {
   "display_name": "Python 3 (ipykernel)",
   "language": "python",
   "name": "python3"
  },
  "language_info": {
   "codemirror_mode": {
    "name": "ipython",
    "version": 3
   },
   "file_extension": ".py",
   "mimetype": "text/x-python",
   "name": "python",
   "nbconvert_exporter": "python",
   "pygments_lexer": "ipython3",
   "version": "3.12.3"
  }
 },
 "nbformat": 4,
 "nbformat_minor": 5
}
